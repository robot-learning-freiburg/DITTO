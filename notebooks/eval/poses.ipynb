{
 "cells": [
  {
   "cell_type": "markdown",
   "metadata": {},
   "source": [
    "# Plot and analyze the results of the translation and rotation errors"
   ]
  },
  {
   "cell_type": "code",
   "execution_count": null,
   "metadata": {
    "ExecuteTime": {
     "end_time": "2024-06-04T11:37:30.842325994Z",
     "start_time": "2024-06-04T11:37:30.602835317Z"
    }
   },
   "outputs": [],
   "source": [
    "%reload_ext autoreload\n",
    "%autoreload 2"
   ]
  },
  {
   "cell_type": "code",
   "execution_count": null,
   "metadata": {
    "ExecuteTime": {
     "end_time": "2024-06-04T11:37:46.627161327Z",
     "start_time": "2024-06-04T11:37:30.836526520Z"
    }
   },
   "outputs": [],
   "source": [
    "import yaml\n",
    "import casino\n",
    "import numpy as np\n",
    "import matplotlib.pyplot as plt\n",
    "\n",
    "\n",
    "from DITTO.config import RESULTS_DIR"
   ]
  },
  {
   "cell_type": "code",
   "execution_count": null,
   "metadata": {
    "ExecuteTime": {
     "end_time": "2024-06-04T11:37:46.628100601Z",
     "start_time": "2024-06-04T11:37:46.627045746Z"
    }
   },
   "outputs": [],
   "source": [
    "def load_results(singles_dir):\n",
    "    all_results = {}\n",
    "    for single_result_file in singles_dir.glob(\"*\"):\n",
    "        with single_result_file.open(\"r\") as f:\n",
    "            tmp = yaml.load(f, Loader=yaml.Loader)\n",
    "\n",
    "        all_results[single_result_file.stem] = tmp\n",
    "    return all_results"
   ]
  },
  {
   "cell_type": "code",
   "execution_count": null,
   "metadata": {
    "ExecuteTime": {
     "end_time": "2024-06-04T11:37:46.639466432Z",
     "start_time": "2024-06-04T11:37:46.627330601Z"
    }
   },
   "outputs": [],
   "source": [
    "def print_full_results(all_results):\n",
    "    all_results_listed = list(all_results.values())\n",
    "    print(f\"Parsing {len(all_results_listed)}\")\n",
    "\n",
    "    accumulator = casino.special_dicts.AccumulatorDict()\n",
    "\n",
    "    for result_dict in all_results_listed:\n",
    "        accumulator.increment_dict(result_dict)\n",
    "        \n",
    "    print(\"### Mean ###\")\n",
    "    for metric, vals in accumulator.items():\n",
    "        print(f\"{metric = }: {np.mean(vals):.4f}\")\n",
    "\n",
    "    print(\"### Max ###\")\n",
    "    for metric, vals in accumulator.items():\n",
    "        print(f\"{metric = }: {np.max(vals):.4f}\")\n",
    "        "
   ]
  },
  {
   "cell_type": "code",
   "execution_count": null,
   "metadata": {
    "ExecuteTime": {
     "end_time": "2024-06-04T11:37:47.277413742Z",
     "start_time": "2024-06-04T11:37:46.640288023Z"
    }
   },
   "outputs": [],
   "source": [
    "from pathlib import Path\n",
    "\n",
    "relative_poses_result_dir = RESULTS_DIR / \"inter_poses\" / \"single_runs\"\n",
    "\n",
    "all_results = load_results(relative_poses_result_dir)\n",
    "metrics_list = [metric for metric in next(iter(all_results.values())).keys() if \"duration\" not in metric]\n",
    "print(f\"Metrics: {metrics_list}\")\n",
    "print_full_results(all_results)"
   ]
  },
  {
   "cell_type": "code",
   "execution_count": null,
   "metadata": {
    "ExecuteTime": {
     "end_time": "2024-06-04T11:42:52.452142060Z",
     "start_time": "2024-06-04T11:42:51.362674046Z"
    },
    "collapsed": false
   },
   "outputs": [],
   "source": [
    "MAX_VALUE = 1.2  #\n",
    "\n",
    "\n",
    "def plot_metrics(results, metrics_list):\n",
    "    fig, axs = plt.subplots(\n",
    "        nrows=2, ncols=len(metrics_list) // 2, figsize=(10, 10), sharey=\"row\"\n",
    "    )\n",
    "\n",
    "    translation_lists = [metric for metric in metrics_list if \"translation\" in metric]\n",
    "    rotation_lists = [metric for metric in metrics_list if \"rotation\" in metric]\n",
    "\n",
    "    for row_idx, metric_list in enumerate([translation_lists, rotation_lists]):\n",
    "        for column_idx, metric in enumerate(metric_list):\n",
    "            values = []\n",
    "            for episode_id, episode_results in results.items():\n",
    "                metric_values = np.array(\n",
    "                    episode_results[metric]\n",
    "                )  # (N-1) x (2*T); N: episodes per task; T: time steps\n",
    "                values.extend(\n",
    "                    np.mean(metric_values, axis=1)\n",
    "                )  # Get the mean across all bi-directional timesteps\n",
    "\n",
    "            row_index = 0 if \"translation\" in metric else 1\n",
    "\n",
    "            axs[row_index][column_idx].hist(\n",
    "                values, bins=np.linspace(0.0, MAX_VALUE, 20)\n",
    "            )  # , bins=len(values))\n",
    "            broken_lines = \"\\n\".join(metric.split(\"/\"))\n",
    "            axs[row_index][column_idx].set_title(f\"Metric: {broken_lines}\")\n",
    "            axs[row_index][column_idx].set_xlabel(\"Error Values\")\n",
    "\n",
    "    for ax in axs.flatten():\n",
    "        ax.set_ylabel(\"Frequency\")\n",
    "    plt.tight_layout()\n",
    "    plt.show()\n",
    "\n",
    "\n",
    "# Plot the metrics\n",
    "plot_metrics(all_results, metrics_list)"
   ]
  },
  {
   "cell_type": "code",
   "execution_count": null,
   "metadata": {},
   "outputs": [],
   "source": []
  }
 ],
 "metadata": {
  "kernelspec": {
   "display_name": "Python 3",
   "language": "python",
   "name": "python3"
  },
  "language_info": {
   "codemirror_mode": {
    "name": "ipython",
    "version": 3
   },
   "file_extension": ".py",
   "mimetype": "text/x-python",
   "name": "python",
   "nbconvert_exporter": "python",
   "pygments_lexer": "ipython3",
   "version": "3.10.14"
  }
 },
 "nbformat": 4,
 "nbformat_minor": 2
}
