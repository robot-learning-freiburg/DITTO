{
 "cells": [
  {
   "cell_type": "markdown",
   "metadata": {},
   "source": [
    "# Plot and analyze the results of the correspondence experiment"
   ]
  },
  {
   "cell_type": "code",
   "execution_count": null,
   "metadata": {},
   "outputs": [],
   "source": [
    "%reload_ext autoreload\n",
    "%autoreload 2"
   ]
  },
  {
   "cell_type": "code",
   "execution_count": null,
   "metadata": {},
   "outputs": [],
   "source": [
    "import yaml\n",
    "import casino\n",
    "import numpy as np\n",
    "\n",
    "from DITTO.config import RESULTS_DIR"
   ]
  },
  {
   "cell_type": "code",
   "execution_count": null,
   "metadata": {},
   "outputs": [],
   "source": [
    "def load_results(singles_dir):\n",
    "    all_results = {}\n",
    "    for single_result_file in singles_dir.glob(\"*\"):\n",
    "        with single_result_file.open(\"r\") as f:\n",
    "            tmp = yaml.load(f, Loader=yaml.Loader)\n",
    "\n",
    "        all_results[single_result_file.stem] = tmp\n",
    "    return all_results"
   ]
  },
  {
   "cell_type": "code",
   "execution_count": null,
   "metadata": {},
   "outputs": [],
   "source": [
    "def print_full_results(singles_dir):\n",
    "    all_results = load_results(singles_dir)\n",
    "    all_results_listed = list(all_results.values())\n",
    "    print(f\"Parsing {len(all_results_listed)}\")\n",
    "\n",
    "    # Extract methods\n",
    "    accumulator = casino.special_dicts.AccumulatorDict()\n",
    "\n",
    "    for result_dict in all_results_listed:\n",
    "        accumulator.increment_dict(result_dict)\n",
    "\n",
    "    for metric, vals in accumulator.items():\n",
    "        mean = np.mean(vals)\n",
    "        if \"percentage\" in metric:\n",
    "            mean *= 100\n",
    "        print(f\"{metric = }: {mean:.1f}\")"
   ]
  },
  {
   "cell_type": "code",
   "execution_count": null,
   "metadata": {},
   "outputs": [],
   "source": [
    "within_episode_result_dir = RESULTS_DIR / \"intra_correspondence\" / \"single_runs\"\n",
    "between_episodes_result_dir = RESULTS_DIR / \"inter_correspondence\" / \"single_runs\""
   ]
  },
  {
   "cell_type": "code",
   "execution_count": null,
   "metadata": {},
   "outputs": [],
   "source": [
    "print(\"---- Within Episode ----\")\n",
    "print_full_results(within_episode_result_dir)\n",
    "\n",
    "print(\"---- Between Episodes ----\")\n",
    "print_full_results(between_episodes_result_dir)"
   ]
  }
 ],
 "metadata": {
  "kernelspec": {
   "display_name": "Python 3",
   "language": "python",
   "name": "python3"
  },
  "language_info": {
   "codemirror_mode": {
    "name": "ipython",
    "version": 3
   },
   "file_extension": ".py",
   "mimetype": "text/x-python",
   "name": "python",
   "nbconvert_exporter": "python",
   "pygments_lexer": "ipython3",
   "version": "3.10.14"
  },
  "orig_nbformat": 4
 },
 "nbformat": 4,
 "nbformat_minor": 2
}
