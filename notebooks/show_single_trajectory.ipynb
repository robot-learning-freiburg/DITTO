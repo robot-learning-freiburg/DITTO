{
 "cells": [
  {
   "cell_type": "code",
   "execution_count": null,
   "metadata": {},
   "outputs": [],
   "source": [
    "%reload_ext autoreload\n",
    "%autoreload 2"
   ]
  },
  {
   "cell_type": "code",
   "execution_count": null,
   "metadata": {},
   "outputs": [],
   "source": [
    "import sys\n",
    "from pathlib import Path\n",
    "from typing import List, Dict\n",
    "import copy\n",
    "\n",
    "import ipywidgets\n",
    "import numpy as np\n",
    "import open3d as o3d\n",
    "from tqdm import tqdm\n",
    "import matplotlib.pyplot as plt\n",
    "import cv2\n",
    "\n",
    "import casino\n",
    "from DITTO.data import Hands23Dataset, get_all_runs\n",
    "from DITTO.config import  TIME_STEPS, RESULTS_DIR\n",
    "from DITTO.geometry import extract_relative_transforms\n",
    "from casino.o3d import LineMesh\n",
    "\n",
    "from PIL import Image\n",
    "# Activate the interactive stuff\n",
    "# https://github.com/microsoft/vscode-jupyter/wiki/Using-%25matplotlib-widget-instead-of-%25matplotlib-notebook,tk,etc\n",
    "import ipympl\n",
    "%matplotlib widget\n",
    "# %matplotlib inline"
   ]
  },
  {
   "cell_type": "code",
   "execution_count": null,
   "metadata": {},
   "outputs": [],
   "source": [
    "# Notebook settings\n",
    "PLOT_2D_TRAJECTORIES = False\n",
    "PLOT_3D_TRAJECTORIES = True\n",
    "\n",
    "session_id = \"cleanup_box/000\"\n",
    "all_runs = get_all_runs(only_keywords=[str(session_id)])\n",
    "\n",
    "loaders: List[Hands23Dataset] = []\n",
    "for ep in tqdm(all_runs, desc=\"Loading\"):\n",
    "    loaders.append(Hands23Dataset(session_id / ep, lazy_loading=True))\n",
    "\n",
    "# loaders: List[Hands23Dataset] = [\n",
    "#    Hands23Dataset(session_id / \"000\"),\n",
    "#    Hands23Dataset(session_id / \"001\")\n",
    "# Hands23Dataset(session_id / \"004\") # Demo --> Live pose estimation is not optimal\n",
    "# Hands23Dataset(session_id / \"001\") # Demo --> Live pose estimation is not optimal\n",
    "# ]\n",
    "\n",
    "print(f\"Total runs {len(loaders)}\")"
   ]
  },
  {
   "cell_type": "code",
   "execution_count": null,
   "metadata": {},
   "outputs": [],
   "source": [
    "from DITTO.trajectory import Trajectory\n",
    "\n",
    "num_frames = TIME_STEPS  # number of frames through which we compute flow\n",
    "trajectories: Dict[int, Trajectory] = {}\n",
    "for demonstration_index in tqdm(range(len(loaders))):\n",
    "    trajectories[demonstration_index] = Trajectory.from_hands23(\n",
    "        loaders[demonstration_index], n_frames=num_frames\n",
    "    )\n",
    "\n",
    "# We could pre compute trajectories with .trajectory_2D and .trajectory_3D"
   ]
  },
  {
   "cell_type": "code",
   "execution_count": null,
   "metadata": {},
   "outputs": [],
   "source": [
    "demo_index = 0\n",
    "trajectory = trajectories[demo_index]"
   ]
  },
  {
   "cell_type": "code",
   "execution_count": null,
   "metadata": {},
   "outputs": [],
   "source": [
    "# Get initial object point cloud\n",
    "object_pc_start, object_pc_start_rgb = casino.pointcloud.get_pc(\n",
    "    trajectory.depth_start,\n",
    "    trajectory.intrinsics,\n",
    "    mask=trajectory.object_mask_start,\n",
    "    rgb=trajectory.rgb_start,\n",
    ")\n",
    "o3d_object_pc = casino.pointcloud.to_o3d(object_pc_start, object_pc_start_rgb / 255.0)"
   ]
  },
  {
   "cell_type": "code",
   "execution_count": null,
   "metadata": {},
   "outputs": [],
   "source": [
    "# o3d.visualization.draw_geometries([o3d_object_pc])"
   ]
  },
  {
   "cell_type": "code",
   "execution_count": null,
   "metadata": {},
   "outputs": [],
   "source": [
    "world_trajectory_3D = trajectory.trajectory_3D\n",
    "relative_trajectory_3D = extract_relative_transforms(world_trajectory_3D)"
   ]
  },
  {
   "cell_type": "code",
   "execution_count": null,
   "metadata": {},
   "outputs": [],
   "source": [
    "len(relative_trajectory_3D)"
   ]
  },
  {
   "cell_type": "code",
   "execution_count": null,
   "metadata": {},
   "outputs": [],
   "source": [
    "# Plot relative demo trajectory\n",
    "o3d_objects = []\n",
    "print(loaders[demo_index].recording_path)\n",
    "\n",
    "\n",
    "for idx, transform in enumerate(world_trajectory_3D):\n",
    "    o3d_objects.append(\n",
    "        casino.visualization.get_o3d_coordinate_frame(scale=0.1, transform=transform)\n",
    "    )\n",
    "\n",
    "    o3d_object_pc_current = copy.deepcopy(o3d_object_pc)\n",
    "    o3d_object_pc_current.transform(transform @ np.linalg.pinv(world_trajectory_3D[0]))\n",
    "\n",
    "    o3d_objects.append(o3d_object_pc_current)\n",
    "\n",
    "\n",
    "center_points = [T[:3, 3] for T in world_trajectory_3D]\n",
    "lines = np.array(\n",
    "    [\n",
    "        np.arange(start=0, stop=len(relative_trajectory_3D)),\n",
    "        np.arange(start=1, stop=1 + len(relative_trajectory_3D)),\n",
    "    ],\n",
    "    dtype=int,\n",
    ").T\n",
    "\n",
    "line_mesh = LineMesh(\n",
    "    points=center_points,\n",
    "    lines=lines,\n",
    "    colors=np.array((190, 3, 252)) / 255.0,\n",
    "    radius=0.005,\n",
    ")\n",
    "\n",
    "pcd = loaders[demo_index].get_pointcloud_o3d(0)\n",
    "\n",
    "all_geometries = [\n",
    "    pcd,\n",
    "    # *line_mesh.cylinder_segments,\n",
    "    *o3d_objects\n",
    "]\n",
    "\n",
    "\n",
    "# o3d.visualization.draw_geometries(all_geometries)"
   ]
  },
  {
   "cell_type": "code",
   "execution_count": null,
   "metadata": {},
   "outputs": [],
   "source": [
    "if not \"renderer\" in locals():\n",
    "    renderer = casino.o3d.offline_rendering.get_o3d_render(640, 480)"
   ]
  },
  {
   "cell_type": "code",
   "execution_count": null,
   "metadata": {},
   "outputs": [],
   "source": [
    "center = [0, 0, 0.5]  # This is where we look at, 0.5\n",
    "eye = [0.0, 0.0, -0.5]  # Position in world\n",
    "up = [\n",
    "    0.0,\n",
    "    -1.0,\n",
    "    0.0,\n",
    "]\n",
    "renderer.scene.camera.look_at(center, eye, up)\n",
    "\n",
    "\n",
    "image = casino.o3d.offline_rendering.render_o3d_mesh(\n",
    "    all_geometries, renderer=renderer, height_coloring=False\n",
    ")\n",
    "\n",
    "episode_id = \"_\".join(loaders[demo_index].recording_path.parts[-2:])\n",
    "\n",
    "# out_path = RESULTS_DIR / \"demo_renderings\" / episode_id\n",
    "\n",
    "# Single image\n",
    "# out_path.parent.mkdir(exist_ok=True, parents=True)\n",
    "# pil_image = Image.fromarray(image)\n",
    "# pil_image.save(out_path.with_suffix(\".png\"))\n",
    "\n",
    "plt.close(\"all\")\n",
    "plt.imshow(image)\n",
    "plt.axis(\"off\")\n",
    "plt.tight_layout()\n",
    "plt.show()"
   ]
  },
  {
   "cell_type": "code",
   "execution_count": null,
   "metadata": {},
   "outputs": [],
   "source": [
    "fps = 30\n",
    "\n",
    "# Extracted from MeshLab\n",
    "rotation_axis = [0.012724, -0.585725, -0.810410]\n",
    "\n",
    "np_images = casino.o3d.offline_rendering.render_rotate_around_o3d_meshes(\n",
    "    all_geometries,\n",
    "    renderer=renderer,\n",
    "    camera_position=eye,\n",
    "    rotation_center=center,\n",
    "    rotation_axis=rotation_axis,\n",
    "    fps=fps,\n",
    "    duration=5,\n",
    "    debug_vis=False,\n",
    ")\n",
    "\n",
    "out_path = RESULTS_DIR / \"demo_rotation_renderings\" / episode_id\n",
    "out_path.parent.mkdir(exist_ok=True, parents=True)\n",
    "\n",
    "# casino.images.save_images_to_gif(np_images, out_path.with_suffix(\".gif\"), fps=fps)\n",
    "casino.images.save_images_to_mp4(np_images, out_path.with_suffix(\".avi\"), fps=fps)\n",
    "\n",
    "# plt.close(\"all\")\n",
    "\n",
    "# fig, axes = plt.subplots(\n",
    "#     nrows=1,\n",
    "#     ncols=len(np_images),\n",
    "#     squeeze=True,\n",
    "#     dpi=200,\n",
    "#     figsize=(4, len(np_images) * 3),\n",
    "# )\n",
    "\n",
    "# for idx, image in enumerate(np_images):\n",
    "#     axes[idx].imshow(image)\n",
    "#     axes[idx].set_axis_off()\n",
    "\n",
    "# fig.tight_layout()\n",
    "# fig.show()"
   ]
  }
 ],
 "metadata": {
  "kernelspec": {
   "display_name": "Python 3",
   "language": "python",
   "name": "python3"
  },
  "language_info": {
   "codemirror_mode": {
    "name": "ipython",
    "version": 3
   },
   "file_extension": ".py",
   "mimetype": "text/x-python",
   "name": "python",
   "nbconvert_exporter": "python",
   "pygments_lexer": "ipython3",
   "version": "3.10.13"
  }
 },
 "nbformat": 4,
 "nbformat_minor": 2
}
